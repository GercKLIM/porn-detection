{
 "cells": [
  {
   "cell_type": "code",
   "execution_count": 1,
   "id": "1a4b40a772a34bae",
   "metadata": {
    "jupyter": {
     "is_executing": true
    }
   },
   "outputs": [],
   "source": [
    "# === ЗАГРУЗКА ДАННЫХ ДАТАСЕТА ===\n",
    "import pandas as pd"
   ]
  },
  {
   "cell_type": "code",
   "execution_count": 9,
   "id": "e656e6b7921567e6",
   "metadata": {},
   "outputs": [
    {
     "name": "stdout",
     "output_type": "stream",
     "text": [
      "=== Тренировочный датасет (train_ds) ===\n",
      "   ID              url                                              title  \\\n",
      "0   0          m.kp.md  Экс-министр экономики Молдовы - главе МИДЭИ, ц...   \n",
      "1   1        www.kp.by  Эта песня стала известна многим телезрителям б...   \n",
      "2   2    fanserials.tv  Банши 4 сезон 2 серия Бремя красоты смотреть о...   \n",
      "3   3  colorbox.spb.ru                              Не Беси Меня Картинки   \n",
      "4   4    tula-sport.ru  В Новомосковске сыграют следж-хоккеисты алекси...   \n",
      "\n",
      "   label  \n",
      "0      0  \n",
      "1      0  \n",
      "2      0  \n",
      "3      0  \n",
      "4      0  \n"
     ]
    }
   ],
   "source": [
    "# === ЗАГРУЗКА ДАТАСЕТОВ ===\n",
    "\n",
    "# Пути к файлам\n",
    "train_ds_path = \"datasets/train.csv\"        # Тренировочный датасет\n",
    "test_ds_path = \"datasets/test.csv\"          # Тестовый датасет\n",
    "example_ds_path = \"datasets/sample_submission.csv\"  # Пример submission\n",
    "\n",
    "# Загрузка датасетов\n",
    "train_ds = pd.read_csv(train_ds_path, encoding='utf-8')\n",
    "test_ds = pd.read_csv(test_ds_path, encoding='utf-8')\n",
    "example_ds = pd.read_csv(example_ds_path, encoding='utf-8')\n",
    "\n",
    "# Вывод первых строк каждого датасета\n",
    "print(\"=== Тренировочный датасет (train_ds) ===\")\n",
    "print(train_ds.head())"
   ]
  },
  {
   "cell_type": "code",
   "execution_count": 10,
   "id": "572a11f8",
   "metadata": {},
   "outputs": [
    {
     "name": "stdout",
     "output_type": "stream",
     "text": [
      "\n",
      "=== Информация о train_ds ===\n",
      "<class 'pandas.core.frame.DataFrame'>\n",
      "RangeIndex: 135309 entries, 0 to 135308\n",
      "Data columns (total 4 columns):\n",
      " #   Column  Non-Null Count   Dtype \n",
      "---  ------  --------------   ----- \n",
      " 0   ID      135309 non-null  int64 \n",
      " 1   url     135309 non-null  object\n",
      " 2   title   135308 non-null  object\n",
      " 3   label   135309 non-null  int64 \n",
      "dtypes: int64(2), object(2)\n",
      "memory usage: 4.1+ MB\n",
      "None\n"
     ]
    }
   ],
   "source": [
    "# Информация о тренировочном датасете\n",
    "print(\"\\n=== Информация о train_ds ===\")\n",
    "print(train_ds.info())\n"
   ]
  },
  {
   "cell_type": "code",
   "execution_count": 11,
   "id": "07db59f7",
   "metadata": {},
   "outputs": [
    {
     "name": "stdout",
     "output_type": "stream",
     "text": [
      "\n",
      "=== Описание train_ds ===\n",
      "                   ID      url  \\\n",
      "count   135309.000000   135309   \n",
      "unique            NaN    40391   \n",
      "top               NaN  mail.ru   \n",
      "freq              NaN     7900   \n",
      "mean     67654.000000      NaN   \n",
      "std      39060.488124      NaN   \n",
      "min          0.000000      NaN   \n",
      "25%      33827.000000      NaN   \n",
      "50%      67654.000000      NaN   \n",
      "75%     101481.000000      NaN   \n",
      "max     135308.000000      NaN   \n",
      "\n",
      "                                                    title          label  \n",
      "count                                              135308  135309.000000  \n",
      "unique                                             129302            NaN  \n",
      "top     Armtek - запчасти для грузовых и легковых авто...            NaN  \n",
      "freq                                                  217            NaN  \n",
      "mean                                                  NaN       0.123532  \n",
      "std                                                   NaN       0.329048  \n",
      "min                                                   NaN       0.000000  \n",
      "25%                                                   NaN       0.000000  \n",
      "50%                                                   NaN       0.000000  \n",
      "75%                                                   NaN       0.000000  \n",
      "max                                                   NaN       1.000000  \n"
     ]
    }
   ],
   "source": [
    "# Описание тренировочного датасета\n",
    "print(\"\\n=== Описание train_ds ===\")\n",
    "print(train_ds.describe(include='all'))"
   ]
  },
  {
   "cell_type": "code",
   "execution_count": 13,
   "id": "28e6e41f",
   "metadata": {},
   "outputs": [
    {
     "name": "stdout",
     "output_type": "stream",
     "text": [
      "\n",
      "=== Информация о test_ds ===\n",
      "<class 'pandas.core.frame.DataFrame'>\n",
      "RangeIndex: 165378 entries, 0 to 165377\n",
      "Data columns (total 3 columns):\n",
      " #   Column  Non-Null Count   Dtype \n",
      "---  ------  --------------   ----- \n",
      " 0   ID      165378 non-null  int64 \n",
      " 1   url     165378 non-null  object\n",
      " 2   title   165378 non-null  object\n",
      "dtypes: int64(1), object(2)\n",
      "memory usage: 3.8+ MB\n",
      "None\n"
     ]
    }
   ],
   "source": [
    "# Информация о тестовом датасете\n",
    "print(\"\\n=== Информация о test_ds ===\")\n",
    "print(test_ds.info())"
   ]
  },
  {
   "cell_type": "code",
   "execution_count": null,
   "id": "fc1bef8b2572c0dc",
   "metadata": {},
   "outputs": [
    {
     "name": "stdout",
     "output_type": "stream",
     "text": [
      "\n",
      "=== Информация о train_ds ===\n",
      "<class 'pandas.core.frame.DataFrame'>\n",
      "RangeIndex: 135309 entries, 0 to 135308\n",
      "Data columns (total 4 columns):\n",
      " #   Column  Non-Null Count   Dtype \n",
      "---  ------  --------------   ----- \n",
      " 0   ID      135309 non-null  int64 \n",
      " 1   url     135309 non-null  object\n",
      " 2   title   135308 non-null  object\n",
      " 3   label   135309 non-null  int64 \n",
      "dtypes: int64(2), object(2)\n",
      "memory usage: 4.1+ MB\n",
      "None\n",
      "\n",
      "=== Описание train_ds ===\n",
      "                   ID      url  \\\n",
      "count   135309.000000   135309   \n",
      "unique            NaN    40391   \n",
      "top               NaN  mail.ru   \n",
      "freq              NaN     7900   \n",
      "mean     67654.000000      NaN   \n",
      "std      39060.488124      NaN   \n",
      "min          0.000000      NaN   \n",
      "25%      33827.000000      NaN   \n",
      "50%      67654.000000      NaN   \n",
      "75%     101481.000000      NaN   \n",
      "max     135308.000000      NaN   \n",
      "\n",
      "                                                    title          label  \n",
      "count                                              135308  135309.000000  \n",
      "unique                                             129302            NaN  \n",
      "top     Armtek - запчасти для грузовых и легковых авто...            NaN  \n",
      "freq                                                  217            NaN  \n",
      "mean                                                  NaN       0.123532  \n",
      "std                                                   NaN       0.329048  \n",
      "min                                                   NaN       0.000000  \n",
      "25%                                                   NaN       0.000000  \n",
      "50%                                                   NaN       0.000000  \n",
      "75%                                                   NaN       0.000000  \n",
      "max                                                   NaN       1.000000  \n",
      "\n",
      "=== Информация о test_ds ===\n",
      "<class 'pandas.core.frame.DataFrame'>\n",
      "RangeIndex: 165378 entries, 0 to 165377\n",
      "Data columns (total 3 columns):\n",
      " #   Column  Non-Null Count   Dtype \n",
      "---  ------  --------------   ----- \n",
      " 0   ID      165378 non-null  int64 \n",
      " 1   url     165378 non-null  object\n",
      " 2   title   165378 non-null  object\n",
      "dtypes: int64(1), object(2)\n",
      "memory usage: 3.8+ MB\n",
      "None\n",
      "\n",
      "=== Информация о example_ds ===\n",
      "<class 'pandas.core.frame.DataFrame'>\n",
      "RangeIndex: 165378 entries, 0 to 165377\n",
      "Data columns (total 2 columns):\n",
      " #   Column  Non-Null Count   Dtype\n",
      "---  ------  --------------   -----\n",
      " 0   ID      165378 non-null  int64\n",
      " 1   label   165378 non-null  int64\n",
      "dtypes: int64(2)\n",
      "memory usage: 2.5 MB\n",
      "None\n"
     ]
    }
   ],
   "source": [
    "# Информация о примере submission\n",
    "print(\"\\n=== Информация о example_ds ===\")\n",
    "print(example_ds.info())"
   ]
  },
  {
   "cell_type": "code",
   "execution_count": 15,
   "id": "6ac4e5ddfbe176f1",
   "metadata": {},
   "outputs": [
    {
     "name": "stdout",
     "output_type": "stream",
     "text": [
      "Пропущенные значения в train_ds:\n",
      "ID       0\n",
      "url      0\n",
      "title    1\n",
      "label    0\n",
      "dtype: int64\n",
      "\n",
      "Пропущенные значения в test_ds:\n",
      "ID       0\n",
      "url      0\n",
      "title    0\n",
      "dtype: int64\n"
     ]
    }
   ],
   "source": [
    "# === АНАЛИЗ ДАННЫХ ===\n",
    "\n",
    "# Проверяем пропущенные значения в train_ds\n",
    "print(\"Пропущенные значения в train_ds:\")\n",
    "print(train_ds.isnull().sum())\n",
    "\n",
    "# Проверяем пропущенные значения в test_ds\n",
    "print(\"\\nПропущенные значения в test_ds:\")\n",
    "print(test_ds.isnull().sum())"
   ]
  },
  {
   "cell_type": "code",
   "execution_count": null,
   "id": "3892e383",
   "metadata": {},
   "outputs": [
    {
     "name": "stdout",
     "output_type": "stream",
     "text": [
      "Индексы строк с пропущенными значениями в 'title': [78497]\n",
      "Строки с пропущенными значениями в 'title':\n",
      "          ID        url title  label\n",
      "78497  78497  jpg-1.com   NaN      0\n"
     ]
    }
   ],
   "source": [
    "# Нахождение индексов строк с пропущенными значениями в колонке 'title'\n",
    "missing_title_indices = train_ds[train_ds['title'].isnull()].index\n",
    "\n",
    "# Вывод найденных индексов\n",
    "print(\"Индексы строк с пропущенными значениями в 'title':\", list(missing_title_indices))\n",
    "\n",
    "# Фильтрация строк с пропущенными значениями в 'title'\n",
    "missing_title_rows = train_ds[train_ds['title'].isnull()]\n",
    "\n",
    "# Вывод этих строк\n",
    "print(\"Строки с пропущенными значениями в 'title':\")\n",
    "print(missing_title_rows)"
   ]
  },
  {
   "cell_type": "code",
   "execution_count": 26,
   "id": "d3955cd9",
   "metadata": {},
   "outputs": [],
   "source": [
    "# Замена NaN на пустые строки\n",
    "train_ds = train_ds.fillna('')\n",
    "test_ds = test_ds.fillna('')"
   ]
  },
  {
   "cell_type": "code",
   "execution_count": null,
   "id": "9acbdaba",
   "metadata": {},
   "outputs": [],
   "source": []
  },
  {
   "cell_type": "code",
   "execution_count": 29,
   "id": "2ee0313f34f894b4",
   "metadata": {},
   "outputs": [
    {
     "name": "stdout",
     "output_type": "stream",
     "text": [
      "Процентное соотношение классов:\n",
      "label\n",
      "0    87.646794\n",
      "1    12.353206\n",
      "Name: proportion, dtype: float64\n"
     ]
    }
   ],
   "source": [
    "# Пропорции классов\n",
    "label_counts = train_ds['label'].value_counts(normalize=True) * 100\n",
    "print(\"Процентное соотношение классов:\")\n",
    "print(label_counts)"
   ]
  },
  {
   "cell_type": "code",
   "execution_count": 36,
   "id": "8b933359",
   "metadata": {},
   "outputs": [],
   "source": [
    "import tensorflow as tf\n",
    "from tensorflow.keras.layers import TextVectorization\n",
    "import numpy as np\n",
    "import pandas as pd\n",
    "\n",
    "# Параметры векторизации\n",
    "max_tokens = 20000  # Максимальное количество уникальных слов\n",
    "output_sequence_length = 50  # Длина последовательности после векторизации\n",
    "\n",
    "# Создаем слой векторизации для url\n",
    "url_vectorizer = TextVectorization(\n",
    "    max_tokens=max_tokens,\n",
    "    output_mode='int',\n",
    "    output_sequence_length=output_sequence_length\n",
    ")\n",
    "\n",
    "# Создаем слой векторизации для title\n",
    "title_vectorizer = TextVectorization(\n",
    "    max_tokens=max_tokens,\n",
    "    output_mode='int',\n",
    "    output_sequence_length=output_sequence_length\n",
    ")\n",
    "\n",
    "# Адаптируем векторизаторы на данных\n",
    "url_vectorizer.adapt(train_ds['url'])\n",
    "title_vectorizer.adapt(train_ds['title'])\n",
    "\n",
    "# Функция для преобразования данных\n",
    "def preprocess_data(url, title):\n",
    "    url_vec = url_vectorizer(url)\n",
    "    title_vec = title_vectorizer(title)\n",
    "    return tf.concat([url_vec, title_vec], axis=1)\n",
    "\n",
    "# Применяем препроцессинг к данным\n",
    "X_train = preprocess_data(train_ds['url'], train_ds['title'])\n",
    "y_train = train_ds['label']\n",
    "\n",
    "X_test = preprocess_data(test_ds['url'], test_ds['title'])\n"
   ]
  },
  {
   "cell_type": "code",
   "execution_count": 37,
   "id": "2f9f3a59",
   "metadata": {},
   "outputs": [
    {
     "name": "stderr",
     "output_type": "stream",
     "text": [
      "c:\\Users\\gerce\\AppData\\Local\\Programs\\Python\\Python39\\lib\\site-packages\\keras\\src\\layers\\core\\embedding.py:90: UserWarning: Argument `input_length` is deprecated. Just remove it.\n",
      "  warnings.warn(\n"
     ]
    },
    {
     "data": {
      "text/html": [
       "<pre style=\"white-space:pre;overflow-x:auto;line-height:normal;font-family:Menlo,'DejaVu Sans Mono',consolas,'Courier New',monospace\"><span style=\"font-weight: bold\">Model: \"sequential\"</span>\n",
       "</pre>\n"
      ],
      "text/plain": [
       "\u001b[1mModel: \"sequential\"\u001b[0m\n"
      ]
     },
     "metadata": {},
     "output_type": "display_data"
    },
    {
     "data": {
      "text/html": [
       "<pre style=\"white-space:pre;overflow-x:auto;line-height:normal;font-family:Menlo,'DejaVu Sans Mono',consolas,'Courier New',monospace\">┏━━━━━━━━━━━━━━━━━━━━━━━━━━━━━━━━━┳━━━━━━━━━━━━━━━━━━━━━━━━┳━━━━━━━━━━━━━━━┓\n",
       "┃<span style=\"font-weight: bold\"> Layer (type)                    </span>┃<span style=\"font-weight: bold\"> Output Shape           </span>┃<span style=\"font-weight: bold\">       Param # </span>┃\n",
       "┡━━━━━━━━━━━━━━━━━━━━━━━━━━━━━━━━━╇━━━━━━━━━━━━━━━━━━━━━━━━╇━━━━━━━━━━━━━━━┩\n",
       "│ embedding (<span style=\"color: #0087ff; text-decoration-color: #0087ff\">Embedding</span>)           │ ?                      │   <span style=\"color: #00af00; text-decoration-color: #00af00\">0</span> (unbuilt) │\n",
       "├─────────────────────────────────┼────────────────────────┼───────────────┤\n",
       "│ global_average_pooling1d        │ ?                      │             <span style=\"color: #00af00; text-decoration-color: #00af00\">0</span> │\n",
       "│ (<span style=\"color: #0087ff; text-decoration-color: #0087ff\">GlobalAveragePooling1D</span>)        │                        │               │\n",
       "├─────────────────────────────────┼────────────────────────┼───────────────┤\n",
       "│ dense (<span style=\"color: #0087ff; text-decoration-color: #0087ff\">Dense</span>)                   │ ?                      │   <span style=\"color: #00af00; text-decoration-color: #00af00\">0</span> (unbuilt) │\n",
       "├─────────────────────────────────┼────────────────────────┼───────────────┤\n",
       "│ dense_1 (<span style=\"color: #0087ff; text-decoration-color: #0087ff\">Dense</span>)                 │ ?                      │   <span style=\"color: #00af00; text-decoration-color: #00af00\">0</span> (unbuilt) │\n",
       "└─────────────────────────────────┴────────────────────────┴───────────────┘\n",
       "</pre>\n"
      ],
      "text/plain": [
       "┏━━━━━━━━━━━━━━━━━━━━━━━━━━━━━━━━━┳━━━━━━━━━━━━━━━━━━━━━━━━┳━━━━━━━━━━━━━━━┓\n",
       "┃\u001b[1m \u001b[0m\u001b[1mLayer (type)                   \u001b[0m\u001b[1m \u001b[0m┃\u001b[1m \u001b[0m\u001b[1mOutput Shape          \u001b[0m\u001b[1m \u001b[0m┃\u001b[1m \u001b[0m\u001b[1m      Param #\u001b[0m\u001b[1m \u001b[0m┃\n",
       "┡━━━━━━━━━━━━━━━━━━━━━━━━━━━━━━━━━╇━━━━━━━━━━━━━━━━━━━━━━━━╇━━━━━━━━━━━━━━━┩\n",
       "│ embedding (\u001b[38;5;33mEmbedding\u001b[0m)           │ ?                      │   \u001b[38;5;34m0\u001b[0m (unbuilt) │\n",
       "├─────────────────────────────────┼────────────────────────┼───────────────┤\n",
       "│ global_average_pooling1d        │ ?                      │             \u001b[38;5;34m0\u001b[0m │\n",
       "│ (\u001b[38;5;33mGlobalAveragePooling1D\u001b[0m)        │                        │               │\n",
       "├─────────────────────────────────┼────────────────────────┼───────────────┤\n",
       "│ dense (\u001b[38;5;33mDense\u001b[0m)                   │ ?                      │   \u001b[38;5;34m0\u001b[0m (unbuilt) │\n",
       "├─────────────────────────────────┼────────────────────────┼───────────────┤\n",
       "│ dense_1 (\u001b[38;5;33mDense\u001b[0m)                 │ ?                      │   \u001b[38;5;34m0\u001b[0m (unbuilt) │\n",
       "└─────────────────────────────────┴────────────────────────┴───────────────┘\n"
      ]
     },
     "metadata": {},
     "output_type": "display_data"
    },
    {
     "data": {
      "text/html": [
       "<pre style=\"white-space:pre;overflow-x:auto;line-height:normal;font-family:Menlo,'DejaVu Sans Mono',consolas,'Courier New',monospace\"><span style=\"font-weight: bold\"> Total params: </span><span style=\"color: #00af00; text-decoration-color: #00af00\">0</span> (0.00 B)\n",
       "</pre>\n"
      ],
      "text/plain": [
       "\u001b[1m Total params: \u001b[0m\u001b[38;5;34m0\u001b[0m (0.00 B)\n"
      ]
     },
     "metadata": {},
     "output_type": "display_data"
    },
    {
     "data": {
      "text/html": [
       "<pre style=\"white-space:pre;overflow-x:auto;line-height:normal;font-family:Menlo,'DejaVu Sans Mono',consolas,'Courier New',monospace\"><span style=\"font-weight: bold\"> Trainable params: </span><span style=\"color: #00af00; text-decoration-color: #00af00\">0</span> (0.00 B)\n",
       "</pre>\n"
      ],
      "text/plain": [
       "\u001b[1m Trainable params: \u001b[0m\u001b[38;5;34m0\u001b[0m (0.00 B)\n"
      ]
     },
     "metadata": {},
     "output_type": "display_data"
    },
    {
     "data": {
      "text/html": [
       "<pre style=\"white-space:pre;overflow-x:auto;line-height:normal;font-family:Menlo,'DejaVu Sans Mono',consolas,'Courier New',monospace\"><span style=\"font-weight: bold\"> Non-trainable params: </span><span style=\"color: #00af00; text-decoration-color: #00af00\">0</span> (0.00 B)\n",
       "</pre>\n"
      ],
      "text/plain": [
       "\u001b[1m Non-trainable params: \u001b[0m\u001b[38;5;34m0\u001b[0m (0.00 B)\n"
      ]
     },
     "metadata": {},
     "output_type": "display_data"
    }
   ],
   "source": [
    "from tensorflow.keras.models import Sequential\n",
    "from tensorflow.keras.layers import Embedding, GlobalAveragePooling1D, Dense\n",
    "\n",
    "# Параметры модели\n",
    "embedding_dim = 16  # Размерность эмбеддингов\n",
    "num_classes = 1  # Бинарная классификация\n",
    "\n",
    "# Создаем модель\n",
    "model = Sequential([\n",
    "    Embedding(input_dim=max_tokens + 1, output_dim=embedding_dim, input_length=output_sequence_length * 2),\n",
    "    GlobalAveragePooling1D(),\n",
    "    Dense(16, activation='relu'),\n",
    "    Dense(num_classes, activation='sigmoid')  # Сигмоидная функция активации для бинарной классификации\n",
    "])\n",
    "\n",
    "# Компилируем модель\n",
    "model.compile(\n",
    "    optimizer='adam',\n",
    "    loss='binary_crossentropy',  # Бинарная кросс-энтропия для бинарной классификации\n",
    "    metrics=['accuracy']\n",
    ")\n",
    "\n",
    "# Выводим архитектуру модели\n",
    "model.summary()"
   ]
  },
  {
   "cell_type": "code",
   "execution_count": 56,
   "id": "354ce90c",
   "metadata": {},
   "outputs": [],
   "source": [
    "# # Обучение модели\n",
    "# history = model.fit(\n",
    "#     X_train,\n",
    "#     y_train,\n",
    "#     epochs=10,\n",
    "#     batch_size=32,\n",
    "#     validation_split=0.2  # Используем 20% данных для валидации\n",
    "# )\n",
    "\n",
    "from tensorflow.keras.models import load_model\n",
    "\n",
    "# Загрузка модели\n",
    "model = load_model('model_1.keras')\n"
   ]
  },
  {
   "cell_type": "code",
   "execution_count": 60,
   "id": "0ea12214",
   "metadata": {},
   "outputs": [],
   "source": [
    "# Применяем препроцессинг к тестовым данным\n",
    "X_test = preprocess_data(test_ds['url'].values.astype(str), test_ds['title'].values.astype(str))\n",
    "\n",
    "# Явное преобразование в тензор (если необходимо)\n",
    "if not isinstance(X_test, tf.Tensor):\n",
    "    X_test = tf.convert_to_tensor(X_test, dtype=tf.int64)"
   ]
  },
  {
   "cell_type": "code",
   "execution_count": 61,
   "id": "7a5ea54b",
   "metadata": {},
   "outputs": [
    {
     "name": "stdout",
     "output_type": "stream",
     "text": [
      "\u001b[1m5169/5169\u001b[0m \u001b[32m━━━━━━━━━━━━━━━━━━━━\u001b[0m\u001b[37m\u001b[0m \u001b[1m9s\u001b[0m 2ms/step\n",
      "Первые 10 предсказаний:\n",
      "[0 0 0 1 0 0 0 0 0 0]\n"
     ]
    }
   ],
   "source": [
    "# Предсказание вероятностей\n",
    "y_pred_proba = model.predict(X_test, batch_size=32, verbose=1)\n",
    "\n",
    "# Преобразуем вероятности в метки (0 или 1)\n",
    "y_pred = (y_pred_proba > 0.5).astype(int).flatten()\n",
    "\n",
    "# Пример первых нескольких предсказаний\n",
    "print(\"Первые 10 предсказаний:\")\n",
    "print(y_pred[:10])"
   ]
  },
  {
   "cell_type": "code",
   "execution_count": 62,
   "id": "5fbe64b8",
   "metadata": {},
   "outputs": [
    {
     "name": "stdout",
     "output_type": "stream",
     "text": [
      "4229/4229 - 6s - 1ms/step - accuracy: 0.9892 - loss: 0.0308\n",
      "Потери на тренировочной выборке: 0.0308\n",
      "Точность на тренировочной выборке: 0.9892\n"
     ]
    }
   ],
   "source": [
    "# Оценка модели на тренировочной выборке\n",
    "train_loss, train_accuracy = model.evaluate(X_train, y_train, verbose=2)\n",
    "print(f\"Потери на тренировочной выборке: {train_loss:.4f}\")\n",
    "print(f\"Точность на тренировочной выборке: {train_accuracy:.4f}\")"
   ]
  },
  {
   "cell_type": "code",
   "execution_count": null,
   "id": "2e9ef020",
   "metadata": {},
   "outputs": [
    {
     "name": "stdout",
     "output_type": "stream",
     "text": [
      "\u001b[1m4229/4229\u001b[0m \u001b[32m━━━━━━━━━━━━━━━━━━━━\u001b[0m\u001b[37m\u001b[0m \u001b[1m6s\u001b[0m 1ms/step\n",
      "Precision (точность): 0.9968\n",
      "Recall (полнота): 0.9154\n",
      "AUC (площадь под кривой): 0.9972\n"
     ]
    }
   ],
   "source": [
    "from tensorflow.keras.metrics import Precision, Recall, AUC\n",
    "\n",
    "# Предсказание вероятностей\n",
    "y_pred_proba = model.predict(X_train, batch_size=32, verbose=1)\n",
    "\n",
    "# Преобразуем вероятности в метки (0 или 1)\n",
    "y_pred = (y_pred_proba > 0.5).astype(int).flatten()\n",
    "\n",
    "# Создаем метрики\n",
    "precision_metric = Precision()\n",
    "recall_metric = Recall()\n",
    "auc_metric = AUC()\n",
    "\n",
    "# Обновляем метрики\n",
    "precision_metric.update_state(y_train, y_pred)\n",
    "recall_metric.update_state(y_train, y_pred)\n",
    "auc_metric.update_state(y_train, y_pred_proba)\n",
    "\n",
    "# Выводим результаты\n",
    "print(f\"Precision (точность): {precision_metric.result().numpy():.4f}\")\n",
    "print(f\"Recall (полнота): {recall_metric.result().numpy():.4f}\")\n",
    "print(f\"AUC (площадь под кривой): {auc_metric.result().numpy():.4f}\")"
   ]
  },
  {
   "cell_type": "code",
   "execution_count": null,
   "id": "04e00452",
   "metadata": {},
   "outputs": [],
   "source": []
  },
  {
   "cell_type": "code",
   "execution_count": 66,
   "id": "1d82b50c",
   "metadata": {},
   "outputs": [
    {
     "name": "stdout",
     "output_type": "stream",
     "text": [
      "\u001b[1m4229/4229\u001b[0m \u001b[32m━━━━━━━━━━━━━━━━━━━━\u001b[0m\u001b[37m\u001b[0m \u001b[1m7s\u001b[0m 2ms/step\n"
     ]
    }
   ],
   "source": [
    "# Предсказание вероятностей\n",
    "y_pred_proba = model.predict(X_train, batch_size=32, verbose=1)\n",
    "\n"
   ]
  },
  {
   "cell_type": "code",
   "execution_count": 68,
   "id": "566236bd",
   "metadata": {},
   "outputs": [
    {
     "name": "stdout",
     "output_type": "stream",
     "text": [
      "Форма y_train_reshaped: (135309, 1)\n",
      "Форма y_pred_reshaped: (135309, 1)\n",
      "Precision (точность): 0.9968\n",
      "Recall (полнота): 0.9154\n",
      "F1-Score: 0.9544\n"
     ]
    }
   ],
   "source": [
    "# Преобразуем вероятности в метки (0 или 1)\n",
    "y_pred = (y_pred_proba > 0.5).astype(int).flatten()\n",
    "\n",
    "# Преобразуем y_train и y_pred в двумерный формат\n",
    "y_train_reshaped = tf.expand_dims(y_train, axis=-1)  # Добавляем новую ось\n",
    "y_pred_reshaped = tf.expand_dims(y_pred, axis=-1)    # Добавляем новую ось\n",
    "\n",
    "# Проверяем размерности\n",
    "print(\"Форма y_train_reshaped:\", y_train_reshaped.shape)\n",
    "print(\"Форма y_pred_reshaped:\", y_pred_reshaped.shape)\n",
    "\n",
    "# Создаем метрики\n",
    "from tensorflow.keras.metrics import Precision, Recall, F1Score\n",
    "\n",
    "precision_metric = Precision()\n",
    "recall_metric = Recall()\n",
    "f1_metric = F1Score()\n",
    "\n",
    "# Обновляем метрики\n",
    "precision_metric.update_state(y_train_reshaped, y_pred_reshaped)\n",
    "recall_metric.update_state(y_train_reshaped, y_pred_reshaped)\n",
    "f1_metric.update_state(y_train_reshaped, y_pred_reshaped)\n",
    "\n",
    "# Выводим результаты\n",
    "print(f\"Precision (точность): {precision_metric.result().numpy():.4f}\")\n",
    "print(f\"Recall (полнота): {recall_metric.result().numpy():.4f}\")\n",
    "f1_score = f1_metric.result().numpy().item()  # Преобразуем в скалярное значение\n",
    "print(f\"F1-Score: {f1_score:.4f}\")"
   ]
  },
  {
   "cell_type": "code",
   "execution_count": 69,
   "id": "33d54f91",
   "metadata": {},
   "outputs": [
    {
     "name": "stdout",
     "output_type": "stream",
     "text": [
      "\u001b[1m5169/5169\u001b[0m \u001b[32m━━━━━━━━━━━━━━━━━━━━\u001b[0m\u001b[37m\u001b[0m \u001b[1m8s\u001b[0m 1ms/step\n",
      "Файл submission сохранен!\n"
     ]
    }
   ],
   "source": [
    "# Предсказание вероятностей на тестовой выборке\n",
    "y_pred_proba_test = model.predict(X_test, batch_size=32, verbose=1)\n",
    "\n",
    "# Преобразуем вероятности в метки (0 или 1)\n",
    "y_pred_test = (y_pred_proba_test > 0.5).astype(int).flatten()\n",
    "\n",
    "# Создаем DataFrame для submission\n",
    "submission = pd.DataFrame({\n",
    "    'ID': test_ds['ID'],  # Идентификаторы записей из тестового набора\n",
    "    'label': y_pred_test  # Предсказанные метки\n",
    "})\n",
    "\n",
    "# Сохраняем результаты в файл\n",
    "submission.to_csv('submission.csv', index=False)\n",
    "\n",
    "print(\"Файл submission сохранен!\")"
   ]
  }
 ],
 "metadata": {
  "kernelspec": {
   "display_name": "Python 3",
   "language": "python",
   "name": "python3"
  },
  "language_info": {
   "codemirror_mode": {
    "name": "ipython",
    "version": 3
   },
   "file_extension": ".py",
   "mimetype": "text/x-python",
   "name": "python",
   "nbconvert_exporter": "python",
   "pygments_lexer": "ipython3",
   "version": "3.9.2"
  }
 },
 "nbformat": 4,
 "nbformat_minor": 5
}
