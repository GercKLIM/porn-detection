{
 "cells": [
  {
   "metadata": {},
   "cell_type": "markdown",
   "source": "# Соревнование ML 2025 Spring. Porn Detection",
   "id": "14906a8a091aa78d"
  },
  {
   "metadata": {},
   "cell_type": "markdown",
   "source": [
    "## Контакты участника\n",
    "\n",
    "Если у вас возникли вопросы по этому проекту или вы хотите обсудить сотрудничество, свяжитесь со мной:\n",
    "\n",
    "- Email: gerceg0808@yandex.ru   \n",
    "- Tg: [@GercKLIM](https://t.me/GercKLIM)\n",
    "- GitHub: [@GercKLIM](https://github.com/GercKLIM) "
   ],
   "id": "1cc4e981d4a2203f"
  },
  {
   "metadata": {},
   "cell_type": "markdown",
   "source": [
    "\n",
    "\n",
    "## Описание\n",
    "Участникам предоставлен набор данных, содержащий url и title веб-страниц, а также метку класса - 1, если страница относится к порнографии и 0 - не порнография.\n",
    "\n",
    "Задача состоит в том, чтобы на основе предоставленного набора тренировочных данных построить бинарный классификатор веб-страниц.\n",
    "## Метрика качества\n",
    "Метрика качества в данном соревновании: **F1-Score**.\n",
    "\n",
    "Разбиение тестового набора на Public-/Private- части выполнено в пропорции 30/70%.\n",
    "\n",
    "Файл ответов должен содержать заголовок и иметь следующий вид:\n",
    "\n",
    "```plaintext\n",
    "ID,label\n",
    "135309,0\n",
    "135310,0\n",
    "135311,0\n",
    "135312,1\n",
    "...\n",
    "\n"
   ],
   "id": "f0d7ad6f2af5cc3c"
  },
  {
   "metadata": {},
   "cell_type": "markdown",
   "source": "## 1. Импорт библиотек и подготовка к работе",
   "id": "71466e8d62f5835f"
  },
  {
   "cell_type": "code",
   "id": "initial_id",
   "metadata": {
    "collapsed": true,
    "ExecuteTime": {
     "end_time": "2025-04-07T09:39:55.575418Z",
     "start_time": "2025-04-07T09:39:55.568412Z"
    }
   },
   "source": [
    "# Для импорта датасетов \n",
    "import pandas as pd \n",
    "\n",
    "# Для вывода графиков истории обучения\n",
    "import matplotlib.pyplot as plt\n",
    "\n",
    "# Для создания модели\n",
    "import tensorflow as tf \n",
    "from tensorflow.keras.layers import TextVectorization, Embedding, GlobalAveragePooling1D, Dense\n",
    "from tensorflow.keras.models import Sequential\n",
    "\n",
    "# Для метрик\n",
    "from tensorflow.keras.metrics import Precision, Recall, AUC, F1Score\n"
   ],
   "outputs": [],
   "execution_count": 61
  },
  {
   "metadata": {
    "ExecuteTime": {
     "end_time": "2025-04-07T09:39:55.703647Z",
     "start_time": "2025-04-07T09:39:55.690650Z"
    }
   },
   "cell_type": "code",
   "source": [
    "# Вывод версий библиотек \n",
    "print(f\"Версия TensorFlow: {tf.__version__}\")\n",
    "print(f\"Версия pandas: {pd.__version__}\")"
   ],
   "id": "66cb24b451336510",
   "outputs": [
    {
     "name": "stdout",
     "output_type": "stream",
     "text": [
      "Версия TensorFlow: 2.18.0\n",
      "Версия pandas: 2.2.3\n"
     ]
    }
   ],
   "execution_count": 62
  },
  {
   "metadata": {
    "ExecuteTime": {
     "end_time": "2025-04-07T09:39:56.107056Z",
     "start_time": "2025-04-07T09:39:56.084058Z"
    }
   },
   "cell_type": "code",
   "source": [
    "# Получаем информацию о количестве доступных вычислительных блоков\n",
    "print(f\"Доступные GPU: {tf.config.list_physical_devices('GPU')}\")\n",
    "print(f\"Доступные CPU: {tf.config.list_physical_devices('CPU')}\")\n"
   ],
   "id": "b63e36d55ad94063",
   "outputs": [
    {
     "name": "stdout",
     "output_type": "stream",
     "text": [
      "Доступные GPU: []\n",
      "Доступные CPU: [PhysicalDevice(name='/physical_device:CPU:0', device_type='CPU')]\n"
     ]
    }
   ],
   "execution_count": 63
  },
  {
   "metadata": {
    "ExecuteTime": {
     "end_time": "2025-04-07T09:39:56.304795Z",
     "start_time": "2025-04-07T09:39:56.298796Z"
    }
   },
   "cell_type": "code",
   "source": [
    "# Проверяем поддержку CUDA\n",
    "if (tf.test.is_built_with_cuda()):\n",
    "    print(\"TensorFlow построен с поддержкой CUDA\")\n",
    "else:\n",
    "    print(\"TensorFlow НЕ построен с поддержкой CUDA\")\n",
    "    "
   ],
   "id": "58d7418cc4a8898d",
   "outputs": [
    {
     "name": "stdout",
     "output_type": "stream",
     "text": [
      "TensorFlow НЕ построен с поддержкой CUDA\n"
     ]
    }
   ],
   "execution_count": 64
  },
  {
   "metadata": {},
   "cell_type": "markdown",
   "source": [
    "## 2. Загрузка тренирочной выборки\n",
    "\n",
    "Для начала определим путь к файлу тренировочного датасета и загрузим его с помощью библиотеки `pandas`. \n",
    "\n",
    "После загрузки выполним предобработку данных, заменив пропущенные значения (`NaN`) на пустые строки."
   ],
   "id": "6ed722427686ec73"
  },
  {
   "metadata": {
    "ExecuteTime": {
     "end_time": "2025-04-07T09:39:56.973623Z",
     "start_time": "2025-04-07T09:39:56.402320Z"
    }
   },
   "cell_type": "code",
   "source": [
    "# Путь к файлу тренировочного датасета\n",
    "train_ds_path = 'datasets/train.csv'\n",
    "\n",
    "# Получение треничровочго датасета\n",
    "train_ds = pd.read_csv(train_ds_path, encoding='utf-8')\n",
    "\n",
    "# Замена NaN на пустые строки\n",
    "train_ds = train_ds.fillna('')\n"
   ],
   "id": "52ce03e63d554586",
   "outputs": [],
   "execution_count": 65
  },
  {
   "metadata": {},
   "cell_type": "markdown",
   "source": [
    "## 3. Обработка выборки\n",
    "\n",
    "Предобработка текстовых данных с использованием слоев векторизации из библиотеки TensorFlow. Каждый текстовый признак (`url` и `title`) преобразуется в последовательность целых чисел фиксированной длины."
   ],
   "id": "466a728099702538"
  },
  {
   "metadata": {},
   "cell_type": "markdown",
   "source": [
    "### Параметры векторизации\n",
    "- `max_tokens`: Максимальное количество уникальных слов в словаре.\n",
    "- `output_sequence_length`: Длина выходной последовательности после векторизации.\n"
   ],
   "id": "8878b1dddf5874de"
  },
  {
   "metadata": {
    "ExecuteTime": {
     "end_time": "2025-04-07T09:39:57.069163Z",
     "start_time": "2025-04-07T09:39:57.051630Z"
    }
   },
   "cell_type": "code",
   "source": [
    "# Максимальное количество уникальных слов\n",
    "max_tokens = 20000      \n",
    "\n",
    "# Длина последовательности после векторизации\n",
    "output_sequence_length = 50\n"
   ],
   "id": "5fde6d85d360bda",
   "outputs": [],
   "execution_count": 66
  },
  {
   "metadata": {},
   "cell_type": "markdown",
   "source": [
    "### Создание слоев векторизации\n",
    "Для каждого текстового признака (`url` и `title`) создается отдельный слой векторизации:\n",
    "- Слои настраиваются на параметры `max_tokens`, `output_mode='int'`  и `output_sequence_length`.\n",
    "- Метод `.adapt()` используется для обучения векторизаторов на основе данных из соответствующих столбцов тренировочного датасета (`train_ds['url']` и `train_ds['title']`).\n"
   ],
   "id": "6cb13f21a4832f63"
  },
  {
   "metadata": {
    "ExecuteTime": {
     "end_time": "2025-04-07T09:39:57.133180Z",
     "start_time": "2025-04-07T09:39:57.103165Z"
    }
   },
   "cell_type": "code",
   "source": [
    "# Создаем слой векторизации для url\n",
    "url_vectorizer = TextVectorization(\n",
    "    max_tokens=max_tokens,\n",
    "    output_mode='int',\n",
    "    output_sequence_length=output_sequence_length\n",
    ")\n",
    "\n",
    "# Создаем слой векторизации для title\n",
    "title_vectorizer = TextVectorization(\n",
    "    max_tokens=max_tokens,\n",
    "    output_mode='int',\n",
    "    output_sequence_length=output_sequence_length\n",
    ")\n"
   ],
   "id": "922c7638ef358489",
   "outputs": [],
   "execution_count": 67
  },
  {
   "metadata": {
    "ExecuteTime": {
     "end_time": "2025-04-07T09:39:59.622492Z",
     "start_time": "2025-04-07T09:39:57.168332Z"
    }
   },
   "cell_type": "code",
   "source": [
    "# Адаптируем векторизаторы на данных\n",
    "url_vectorizer.adapt(train_ds['url'])\n",
    "title_vectorizer.adapt(train_ds['title'])\n"
   ],
   "id": "b0cb7645d307c1b0",
   "outputs": [],
   "execution_count": 68
  },
  {
   "metadata": {},
   "cell_type": "markdown",
   "source": [
    "### Преобразование данных\n",
    "Функция `preprocess_data` объединяет векторизованные представления `url` и `title` в одну последовательность:\n",
    "- Для каждого текстового признака вызывается соответствующий векторизатор.\n",
    "- Результаты конкатенируются по первой оси с помощью функции `tf.concat`.\n",
    "\n",
    "После получаем:\n",
    "- `X_train`: Входные данные, полученные путем применения функции `preprocess_data` к столбцам `url` и `title`.\n",
    "- `y_train`: Целевые метки, взятые из столбца `label` тренировочного датасета.\n",
    "\n"
   ],
   "id": "d58527fe7d6500b2"
  },
  {
   "metadata": {
    "ExecuteTime": {
     "end_time": "2025-04-07T09:39:59.669080Z",
     "start_time": "2025-04-07T09:39:59.657016Z"
    }
   },
   "cell_type": "code",
   "source": [
    "# Функция для преобразования данных\n",
    "def preprocess_data(url, title):\n",
    "    url_vec = url_vectorizer(url)\n",
    "    title_vec = title_vectorizer(title)\n",
    "    return tf.concat([url_vec, title_vec], axis=1)\n"
   ],
   "id": "f3a1ff0d90669fe0",
   "outputs": [],
   "execution_count": 69
  },
  {
   "metadata": {
    "ExecuteTime": {
     "end_time": "2025-04-07T09:40:00.597169Z",
     "start_time": "2025-04-07T09:39:59.701749Z"
    }
   },
   "cell_type": "code",
   "source": [
    "# Применяем препроцессинг к данным\n",
    "X_train = preprocess_data(train_ds['url'], train_ds['title'])\n",
    "y_train = train_ds['label']"
   ],
   "id": "4d40ca0c2ae02abc",
   "outputs": [],
   "execution_count": 70
  },
  {
   "metadata": {},
   "cell_type": "markdown",
   "source": [
    "## 4. Создание модели\n",
    "\n",
    "Возьмем архитектуру нейронной сети **Bag of Embeddings with Mean Pooling**, предназначенной для решения задачи текстовой бинарной классификации. "
   ],
   "id": "8df75b5757c6aa8f"
  },
  {
   "metadata": {},
   "cell_type": "markdown",
   "source": [
    "### Параметры модели\n",
    "- `embedding_dim`: Размерность эмбеддингов .\n",
    "- `num_classes`: Количество выходных классов.\n",
    "\n"
   ],
   "id": "3601c9b267ad4428"
  },
  {
   "metadata": {
    "ExecuteTime": {
     "end_time": "2025-04-07T09:40:00.643720Z",
     "start_time": "2025-04-07T09:40:00.630208Z"
    }
   },
   "cell_type": "code",
   "source": [
    "# Параметры модели\n",
    "embedding_dim = 16  # Размерность эмбеддингов\n",
    "num_classes = 1  # Бинарная классификация\n"
   ],
   "id": "be6ec50995d10ae0",
   "outputs": [],
   "execution_count": 71
  },
  {
   "metadata": {},
   "cell_type": "markdown",
   "source": [
    "### Архитектура модели\n",
    "Модель состоит из следующих слоев:\n",
    "1. **Embedding**: Преобразует индексы слов в плотные векторы фиксированной размерности.\n",
    "   - `input_dim`: Размер словаря плюс один (`max_tokens + 1`).\n",
    "   - `output_dim`: Размерность эмбеддингов (`embedding_dim`).\n",
    "   - `input_length`: Длина входной последовательности после конкатенации (`output_sequence_length * 2`).\n",
    "2. **GlobalAveragePooling1D**: Выполняет усреднение по всем токенам в последовательности, что снижает размерность данных и предотвращает переобучение.\n",
    "3. **Dense (32 нейронов)**: Полносвязный слой с функцией активации ReLU для нелинейного преобразования данных.\n",
    "4. **Dense (1 нейрон)**: Выходной полносвязный слой с сигмоидной функцией активации для бинарной классификации.\n",
    "\n"
   ],
   "id": "8de0951ce20ada59"
  },
  {
   "metadata": {
    "ExecuteTime": {
     "end_time": "2025-04-07T09:40:00.689239Z",
     "start_time": "2025-04-07T09:40:00.677246Z"
    }
   },
   "cell_type": "code",
   "source": [
    "# Создаем модель\n",
    "model = Sequential([\n",
    "    Embedding(input_dim=max_tokens + 1, output_dim=embedding_dim), \n",
    "    GlobalAveragePooling1D(),\n",
    "    Dense(16, activation='relu'),\n",
    "    Dense(num_classes, activation='sigmoid')\n",
    "])"
   ],
   "id": "986db44a00f83ba0",
   "outputs": [],
   "execution_count": 72
  },
  {
   "metadata": {},
   "cell_type": "markdown",
   "source": [
    "### Компиляция модели\n",
    "При компиляции модели используются следующие параметры:\n",
    "- Оптимизатор: `adam` (адаптивный оптимизатор)\n",
    "- Функция потерь: `binary_crossentropy` (бинарная кросс-энтропия).\n",
    "- Метрики: `accuracy` (точность классификации)."
   ],
   "id": "44b4d2dff4ef1216"
  },
  {
   "metadata": {
    "ExecuteTime": {
     "end_time": "2025-04-07T09:40:00.736235Z",
     "start_time": "2025-04-07T09:40:00.724252Z"
    }
   },
   "cell_type": "code",
   "source": [
    "# Компилируем модель\n",
    "model.compile(\n",
    "    optimizer='adam',\n",
    "    loss='binary_crossentropy',  # Бинарная кросс-энтропия для бинарной классификации\n",
    "    metrics=['accuracy']\n",
    ")"
   ],
   "id": "f87cfcc6ed8cb42a",
   "outputs": [],
   "execution_count": 73
  },
  {
   "metadata": {},
   "cell_type": "markdown",
   "source": [
    "## 5. Обучение модели\n",
    "\n",
    "Обучение нейронной сети на подготовленных данных.\n",
    "\n",
    "### Параметры обучения\n",
    "- `X_train`: Входные данные для обучения, полученные на предыдущем этапе предобработки.\n",
    "- `y_train`: Целевые метки для обучения, соответствующие входным данным.\n",
    "- `epochs`: Количество эпох обучения (установлено значение 5).\n",
    "- `batch_size`: Размер пакета данных для одного шага обучения (установлено значение 32).\n",
    "- `validation_split`: Часть тренировочных данных, которая будет использоваться для валидации модели (10% от всего тренировочного набора).\n",
    "\n",
    "Метод `model.fit()` используется для запуска процесса обучения. На каждой эпохе модель обучается на обучающих данных и оценивает свою производительность на валидационном наборе данных. Результаты обучения (потеря и точность) сохраняются в переменной `history` для дальнейшего анализа.\n",
    "\n",
    "После завершения обучения модель сохраняется в файл с помощью метода `model.save()`. Файл сохраняется в формате Keras (`.keras`)"
   ],
   "id": "5890ba86fcfc439f"
  },
  {
   "metadata": {
    "ExecuteTime": {
     "end_time": "2025-04-07T09:42:54.548036Z",
     "start_time": "2025-04-07T09:40:00.770777Z"
    }
   },
   "cell_type": "code",
   "source": [
    "# Обучение модели\n",
    "history = model.fit(\n",
    "    X_train,\n",
    "    y_train,\n",
    "    epochs=10,\n",
    "    batch_size=32,\n",
    "    validation_split=0.05  \n",
    ")\n",
    "\n",
    "model.save(\"model_test.keras\")\n"
   ],
   "id": "6fec671abcc26366",
   "outputs": [
    {
     "name": "stdout",
     "output_type": "stream",
     "text": [
      "Epoch 1/10\n",
      "\u001B[1m4017/4017\u001B[0m \u001B[32m━━━━━━━━━━━━━━━━━━━━\u001B[0m\u001B[37m\u001B[0m \u001B[1m20s\u001B[0m 5ms/step - accuracy: 0.8904 - loss: 0.3182 - val_accuracy: 0.9678 - val_loss: 0.1006\n",
      "Epoch 2/10\n",
      "\u001B[1m4017/4017\u001B[0m \u001B[32m━━━━━━━━━━━━━━━━━━━━\u001B[0m\u001B[37m\u001B[0m \u001B[1m17s\u001B[0m 4ms/step - accuracy: 0.9716 - loss: 0.0867 - val_accuracy: 0.9821 - val_loss: 0.0677\n",
      "Epoch 3/10\n",
      "\u001B[1m4017/4017\u001B[0m \u001B[32m━━━━━━━━━━━━━━━━━━━━\u001B[0m\u001B[37m\u001B[0m \u001B[1m17s\u001B[0m 4ms/step - accuracy: 0.9816 - loss: 0.0563 - val_accuracy: 0.9846 - val_loss: 0.0533\n",
      "Epoch 4/10\n",
      "\u001B[1m4017/4017\u001B[0m \u001B[32m━━━━━━━━━━━━━━━━━━━━\u001B[0m\u001B[37m\u001B[0m \u001B[1m18s\u001B[0m 4ms/step - accuracy: 0.9842 - loss: 0.0463 - val_accuracy: 0.9858 - val_loss: 0.0435\n",
      "Epoch 5/10\n",
      "\u001B[1m4017/4017\u001B[0m \u001B[32m━━━━━━━━━━━━━━━━━━━━\u001B[0m\u001B[37m\u001B[0m \u001B[1m17s\u001B[0m 4ms/step - accuracy: 0.9864 - loss: 0.0404 - val_accuracy: 0.9830 - val_loss: 0.0560\n",
      "Epoch 6/10\n",
      "\u001B[1m4017/4017\u001B[0m \u001B[32m━━━━━━━━━━━━━━━━━━━━\u001B[0m\u001B[37m\u001B[0m \u001B[1m17s\u001B[0m 4ms/step - accuracy: 0.9881 - loss: 0.0365 - val_accuracy: 0.9888 - val_loss: 0.0384\n",
      "Epoch 7/10\n",
      "\u001B[1m4017/4017\u001B[0m \u001B[32m━━━━━━━━━━━━━━━━━━━━\u001B[0m\u001B[37m\u001B[0m \u001B[1m17s\u001B[0m 4ms/step - accuracy: 0.9878 - loss: 0.0357 - val_accuracy: 0.9840 - val_loss: 0.0490\n",
      "Epoch 8/10\n",
      "\u001B[1m4017/4017\u001B[0m \u001B[32m━━━━━━━━━━━━━━━━━━━━\u001B[0m\u001B[37m\u001B[0m \u001B[1m18s\u001B[0m 4ms/step - accuracy: 0.9893 - loss: 0.0312 - val_accuracy: 0.9857 - val_loss: 0.0449\n",
      "Epoch 9/10\n",
      "\u001B[1m4017/4017\u001B[0m \u001B[32m━━━━━━━━━━━━━━━━━━━━\u001B[0m\u001B[37m\u001B[0m \u001B[1m16s\u001B[0m 4ms/step - accuracy: 0.9893 - loss: 0.0315 - val_accuracy: 0.9883 - val_loss: 0.0376\n",
      "Epoch 10/10\n",
      "\u001B[1m4017/4017\u001B[0m \u001B[32m━━━━━━━━━━━━━━━━━━━━\u001B[0m\u001B[37m\u001B[0m \u001B[1m17s\u001B[0m 4ms/step - accuracy: 0.9906 - loss: 0.0275 - val_accuracy: 0.9894 - val_loss: 0.0360\n"
     ]
    }
   ],
   "execution_count": 74
  },
  {
   "metadata": {},
   "cell_type": "markdown",
   "source": [
    "## 6. Выводим результаты обучения\n",
    "\n",
    "Выведем анализ результатов обучения модели: оценку производительности на тренировочной выборке и визуализацию процесса обучения.\n"
   ],
   "id": "2130dca1a4d1c917"
  },
  {
   "metadata": {},
   "cell_type": "markdown",
   "source": [
    "### Оценка модели на тренировочной выборке\n",
    "\n",
    "Метод `model.evaluate()` используется для оценки потерь и точности модели на тренировочных данных:\n",
    "- Переменная `train_loss` хранит значение функции потерь на тренировочной выборке.\n",
    "- Переменная `train_accuracy` хранит значение точности классификации на тренировочной выборке.\n",
    "- Результаты выводятся с помощью функции `print()` с форматированием до четырех знаков после запятой.\n"
   ],
   "id": "5edc1984130b50a8"
  },
  {
   "metadata": {
    "ExecuteTime": {
     "end_time": "2025-04-07T09:43:00.897509Z",
     "start_time": "2025-04-07T09:42:54.598045Z"
    }
   },
   "cell_type": "code",
   "source": [
    "# Оценка модели на тренировочной выборке\n",
    "train_loss, train_accuracy = model.evaluate(X_train, y_train, verbose=2)\n",
    "print(f\"Потери на тренировочной выборке: {train_loss:.4f}\")\n",
    "print(f\"Точность на тренировочной выборке: {train_accuracy:.4f}\")"
   ],
   "id": "6f07f306bb8befa",
   "outputs": [
    {
     "name": "stdout",
     "output_type": "stream",
     "text": [
      "4229/4229 - 6s - 1ms/step - accuracy: 0.9931 - loss: 0.0212\n",
      "Потери на тренировочной выборке: 0.0212\n",
      "Точность на тренировочной выборке: 0.9931\n"
     ]
    }
   ],
   "execution_count": 75
  },
  {
   "metadata": {},
   "cell_type": "markdown",
   "source": [
    "### Визуализация истории обучения\n",
    "\n",
    "История обучения (`history`) содержит данные о потере и точности на каждой эпохе. Эти данные извлекаются в следующие переменные:\n",
    "- `train_loss`: Значения функции потерь на тренировочных данных.\n",
    "- `val_loss`: Значения функции потерь на валидационных данных.\n",
    "- `train_accuracy`: Значения точности на тренировочных данных.\n",
    "- `val_accuracy`: Значения точности на валидационных данных.\n"
   ],
   "id": "35291e509c9a5fcf"
  },
  {
   "metadata": {
    "ExecuteTime": {
     "end_time": "2025-04-07T09:43:00.977066Z",
     "start_time": "2025-04-07T09:43:00.951511Z"
    }
   },
   "cell_type": "code",
   "source": [
    "# Извлекаем данные из history\n",
    "train_loss = history.history['loss']\n",
    "val_loss = history.history['val_loss']\n",
    "train_accuracy = history.history['accuracy']\n",
    "val_accuracy = history.history['val_accuracy']"
   ],
   "id": "68780a5133fa521c",
   "outputs": [],
   "execution_count": 76
  },
  {
   "metadata": {},
   "cell_type": "markdown",
   "source": [
    "Для визуализации процесса обучения используем Matplotlib:\n",
    "1. **График потерь**:\n",
    "   - Отображаются значения функции потерь на тренировочных (`train_loss`) и валидационных (`val_loss`) данных.\n",
    "   - График строится по эпохам (`epochs`), где каждая эпоха соответствует одному значению потери.\n",
    "2. **График точности**:\n",
    "   - Отображаются значения точности на тренировочных (`train_accuracy`) и валидационных (`val_accuracy`) данных.\n",
    "   - График также строится по эпохам (`epochs`)."
   ],
   "id": "7989e41d2588c8b2"
  },
  {
   "metadata": {
    "ExecuteTime": {
     "end_time": "2025-04-07T09:43:01.642007Z",
     "start_time": "2025-04-07T09:43:01.104625Z"
    }
   },
   "cell_type": "code",
   "source": [
    "# Определяем количество эпох\n",
    "epochs = range(1, len(train_loss) + 1)\n",
    "# Создаем график для потерь\n",
    "plt.figure(figsize=(12, 4))\n",
    "# График потерь\n",
    "plt.subplot(1, 2, 1)\n",
    "plt.plot(epochs, train_loss, 'bo-', label='Тренировочные потери')\n",
    "plt.plot(epochs, val_loss, 'ro-', label='Валидационные потери')\n",
    "plt.title('Потери на тренировке и валидации')\n",
    "plt.xlabel('Эпохи')\n",
    "plt.ylabel('Потери')\n",
    "plt.legend()\n",
    "plt.grid(True)\n",
    "\n",
    "# График точности\n",
    "plt.subplot(1, 2, 2)\n",
    "plt.plot(epochs, train_accuracy, 'bo-', label='Тренировочная точность')\n",
    "plt.plot(epochs, val_accuracy, 'ro-', label='Валидационная точность')\n",
    "plt.title('Точность на тренировке и валидации')\n",
    "plt.xlabel('Эпохи')\n",
    "plt.ylabel('Точность')\n",
    "plt.legend()\n",
    "plt.grid(True)\n",
    "\n",
    "# Показываем графики\n",
    "plt.tight_layout()\n",
    "plt.show()"
   ],
   "id": "5ff27fa708388cde",
   "outputs": [
    {
     "data": {
      "text/plain": [
       "<Figure size 1200x400 with 2 Axes>"
      ],
      "image/png": "[encoded data removed]"
     },
     "metadata": {},
     "output_type": "display_data"
    }
   ],
   "execution_count": 77
  },
  {
   "metadata": {},
   "cell_type": "markdown",
   "source": [
    "## Метрика на тренировочной выборке\n",
    "\n",
    "Вычислим метрики качества для оценки производительности модели на тренировочных данных. Используются метрики **Precision (точность)**, **Recall (полнота)** и **F1-Score**."
   ],
   "id": "ef93c029b7e62033"
  },
  {
   "metadata": {},
   "cell_type": "markdown",
   "source": [
    "### Предсказание вероятностей и преобразование в метки\n",
    "1. **Предсказание вероятностей**: \n",
    "   - Метод `model.predict()` используется для получения предсказанных вероятностей классов (`y_pred_proba`) на основе входных данных (`X_train`).\n",
    "   - Размер батча (`batch_size=32`) и параметр `verbose=1` обеспечивают отображение прогресса предсказания.\n",
    "   \n",
    "2. **Преобразование вероятностей в метки**:\n",
    "   - Вероятности преобразуются в бинарные метки (`0` или `1`) с помощью порогового значения `0.5`.\n",
    "   - Результаты преобразуются в одномерный массив целых чисел (`astype(int).flatten()`).\n"
   ],
   "id": "68ee3873a6d847ef"
  },
  {
   "metadata": {
    "ExecuteTime": {
     "end_time": "2025-04-07T09:43:09.271388Z",
     "start_time": "2025-04-07T09:43:01.677541Z"
    }
   },
   "cell_type": "code",
   "source": [
    "# Предсказание вероятностей\n",
    "y_pred_proba = model.predict(X_train, batch_size=32, verbose=1)\n",
    "\n",
    "# Преобразуем вероятности в метки (0 или 1)\n",
    "y_pred = (y_pred_proba > 0.5).astype(int).flatten()"
   ],
   "id": "8fc07aeab87266df",
   "outputs": [
    {
     "name": "stdout",
     "output_type": "stream",
     "text": [
      "\u001B[1m4229/4229\u001B[0m \u001B[32m━━━━━━━━━━━━━━━━━━━━\u001B[0m\u001B[37m\u001B[0m \u001B[1m6s\u001B[0m 1ms/step\n"
     ]
    }
   ],
   "execution_count": 78
  },
  {
   "metadata": {},
   "cell_type": "markdown",
   "source": [
    "### Подготовка данных для вычисления метрик\n",
    "Для корректного вычисления метрик входные данные (`y_train` и `y_pred`) преобразуются в двумерный формат:\n",
    "- `y_train_reshaped`: Добавляется новая ось к истинным меткам (`tf.expand_dims(y_train, axis=-1)`).\n",
    "- `y_pred_reshaped`: Аналогично добавляется новая ось к предсказанным меткам (`tf.expand_dims(y_pred, axis=-1)`).\n",
    "\n",
    "Размерности преобразованных данных выводятся для проверки корректности операций.\n",
    "\n"
   ],
   "id": "271fec2f1514bbf2"
  },
  {
   "metadata": {
    "ExecuteTime": {
     "end_time": "2025-04-07T09:43:09.317171Z",
     "start_time": "2025-04-07T09:43:09.304173Z"
    }
   },
   "cell_type": "code",
   "source": [
    "# Преобразуем y_train и y_pred в двумерный формат\n",
    "y_train_reshaped = tf.expand_dims(y_train, axis=-1)  # Добавляем новую ось\n",
    "y_pred_reshaped = tf.expand_dims(y_pred, axis=-1)    # Добавляем новую ось\n",
    "\n",
    "# Проверяем размерности\n",
    "# print(\"Форма y_train_reshaped:\", y_train_reshaped.shape)\n",
    "# print(\"Форма y_pred_reshaped:\", y_pred_reshaped.shape)"
   ],
   "id": "c9e445561bb38622",
   "outputs": [],
   "execution_count": 79
  },
  {
   "metadata": {},
   "cell_type": "markdown",
   "source": [
    "### Вычисление метрик\n",
    "Используются следующие метрики из TensorFlow:\n",
    "- **Precision (точность)**: Отношение истинно-положительных предсказаний ко всем положительным предсказаниям.\n",
    "- **Recall (полнота)**: Отношение истинно-положительных предсказаний ко всем реальным положительным примерам.\n",
    "- **F1-Score**: Среднее гармоническое между точностью и полнотой.\n",
    "\n",
    "Метрики обновляются с использованием метода `update_state()`, который принимает истинные метки (`y_train_reshaped`) и предсказанные метки (`y_pred_reshaped`).\n",
    "\n",
    "Результаты вычислений выводятся с четырьмя знаками после запятой:\n",
    "- Значение точности (`Precision`).\n",
    "- Значение полноты (`Recall`).\n",
    "- Значение F1-Score, преобразованное в скалярное значение (`f1_metric.result().numpy().item()`)."
   ],
   "id": "ba4aba6328e32e1b"
  },
  {
   "metadata": {
    "ExecuteTime": {
     "end_time": "2025-04-07T09:43:09.407910Z",
     "start_time": "2025-04-07T09:43:09.349195Z"
    }
   },
   "cell_type": "code",
   "source": [
    "precision_metric = Precision()\n",
    "recall_metric = Recall()\n",
    "f1_metric = F1Score()\n",
    "\n",
    "# Обновляем метрики\n",
    "precision_metric.update_state(y_train_reshaped, y_pred_reshaped)\n",
    "recall_metric.update_state(y_train_reshaped, y_pred_reshaped)\n",
    "f1_metric.update_state(y_train_reshaped, y_pred_reshaped)\n",
    "\n",
    "# Выводим результаты\n",
    "print(f\"Precision (точность): {precision_metric.result().numpy():.4f}\")\n",
    "print(f\"Recall (полнота): {recall_metric.result().numpy():.4f}\")\n",
    "f1_score = f1_metric.result().numpy().item()  # Преобразуем в скалярное значение\n",
    "print(f\"F1-Score: {f1_score:.4f}\")"
   ],
   "id": "713deac81d7909e3",
   "outputs": [
    {
     "name": "stdout",
     "output_type": "stream",
     "text": [
      "Precision (точность): 0.9814\n",
      "Recall (полнота): 0.9623\n",
      "F1-Score: 0.9718\n"
     ]
    }
   ],
   "execution_count": 80
  },
  {
   "metadata": {},
   "cell_type": "markdown",
   "source": [
    "## Подготовка и сохранение submission файла\n",
    "\n",
    "В данном разделе описывается процесс подготовки предсказаний модели на тестовых данных и формирования файла для отправки (submission).\n"
   ],
   "id": "33c6b4dc0093ff77"
  },
  {
   "metadata": {},
   "cell_type": "markdown",
   "source": [
    "### Загрузка тестового датасета\n",
    "1. **Путь к файлу**: Переменная `test_ds_path` содержит путь к файлу с тестовыми данными (`datasets/test.csv`).\n",
    "2. **Чтение данных**: Метод `pd.read_csv()` используется для загрузки тестового датасета с указанием кодировки UTF-8.\n",
    "\n"
   ],
   "id": "34c9173211a855c5"
  },
  {
   "metadata": {
    "ExecuteTime": {
     "end_time": "2025-04-07T09:43:09.985921Z",
     "start_time": "2025-04-07T09:43:09.441932Z"
    }
   },
   "cell_type": "code",
   "source": [
    "# Путь к файлу тестового датасета\n",
    "test_ds_path = \"datasets/test.csv\"\n",
    "\n",
    "# Получение тестового датасета\n",
    "test_ds = pd.read_csv(test_ds_path, encoding='utf-8')"
   ],
   "id": "aa417d13757bec68",
   "outputs": [],
   "execution_count": 81
  },
  {
   "metadata": {},
   "cell_type": "markdown",
   "source": [
    "### Препроцессинг тестовых данных\n",
    "Для обработки тестовых данных применяется ранее определенная функция `preprocess_data()`:\n",
    "- Столбцы `url` и `title` из тестового датасета преобразуются в массивы строк с помощью `.values.astype(str)`.\n",
    "- Результатом является матрица `X_test`, содержащая векторизованные представления тестовых данных.\n",
    "\n"
   ],
   "id": "bb762ce93b19e668"
  },
  {
   "metadata": {
    "ExecuteTime": {
     "end_time": "2025-04-07T09:43:11.934919Z",
     "start_time": "2025-04-07T09:43:10.037930Z"
    }
   },
   "cell_type": "code",
   "source": [
    "# Применяем препроцессинг к тестовым данным\n",
    "X_test = preprocess_data(test_ds['url'].values.astype(str), test_ds['title'].values.astype(str))\n"
   ],
   "id": "6601bd570862f274",
   "outputs": [],
   "execution_count": 82
  },
  {
   "metadata": {},
   "cell_type": "markdown",
   "source": [
    "### Преобразование в тензор\n",
    "Если результат `X_test` не является тензором TensorFlow, он явно преобразуется в тензор с типом данных `tf.int64` с помощью метода `tf.convert_to_tensor()`.\n",
    "\n"
   ],
   "id": "f4bb26204bcc666e"
  },
  {
   "metadata": {
    "ExecuteTime": {
     "end_time": "2025-04-07T09:43:11.995924Z",
     "start_time": "2025-04-07T09:43:11.984926Z"
    }
   },
   "cell_type": "code",
   "source": [
    "# Явное преобразование в тензор (если необходимо)\n",
    "if not isinstance(X_test, tf.Tensor):\n",
    "    X_test = tf.convert_to_tensor(X_test, dtype=tf.int64)\n",
    "    "
   ],
   "id": "d8a93fb38db6a467",
   "outputs": [],
   "execution_count": 83
  },
  {
   "metadata": {},
   "cell_type": "markdown",
   "source": [
    "### Предсказание на тестовой выборке\n",
    "Метод `model.predict()` используется для получения вероятностей классов (`y_pred_proba_test`) на тестовых данных:\n",
    "- Размер батча (`batch_size=32`) и параметр `verbose=1` обеспечивают отображение прогресса предсказания.\n"
   ],
   "id": "513bffa84cc16683"
  },
  {
   "metadata": {
    "ExecuteTime": {
     "end_time": "2025-04-07T09:43:22.225246Z",
     "start_time": "2025-04-07T09:43:12.044924Z"
    }
   },
   "cell_type": "code",
   "source": [
    "# Предсказание вероятностей на тестовой выборке\n",
    "y_pred_proba_test = model.predict(X_test, batch_size=32, verbose=1)\n"
   ],
   "id": "d831f78f2ee0554d",
   "outputs": [
    {
     "name": "stdout",
     "output_type": "stream",
     "text": [
      "\u001B[1m5169/5169\u001B[0m \u001B[32m━━━━━━━━━━━━━━━━━━━━\u001B[0m\u001B[37m\u001B[0m \u001B[1m8s\u001B[0m 2ms/step\n"
     ]
    }
   ],
   "execution_count": 84
  },
  {
   "metadata": {},
   "cell_type": "markdown",
   "source": [
    "### Преобразование вероятностей в метки\n",
    "Предсказанные вероятности преобразуются в бинарные метки (`0` или `1`) с использованием порогового значения `0.5`.\n"
   ],
   "id": "62a91632bf0666c9"
  },
  {
   "metadata": {
    "ExecuteTime": {
     "end_time": "2025-04-07T09:43:22.271408Z",
     "start_time": "2025-04-07T09:43:22.259438Z"
    }
   },
   "cell_type": "code",
   "source": [
    "# Преобразуем вероятности в метки (0 или 1)\n",
    "y_pred_test = (y_pred_proba_test > 0.5).astype(int).flatten()\n"
   ],
   "id": "ed3c4263c8e47caf",
   "outputs": [],
   "execution_count": 85
  },
  {
   "metadata": {},
   "cell_type": "markdown",
   "source": [
    "### Формирование DataFrame для submission\n",
    "Для создания файла submission используется объект Pandas DataFrame:\n",
    "- Столбец `ID` берется из тестового датасета (`test_ds['ID']`) — уникальные идентификаторы записей.\n",
    "- Столбец `label` содержит предсказанные метки (`y_pred_test`).\n",
    "\n",
    "\n",
    "\n"
   ],
   "id": "33a426ac6a4ff85f"
  },
  {
   "metadata": {
    "ExecuteTime": {
     "end_time": "2025-04-07T09:43:22.317419Z",
     "start_time": "2025-04-07T09:43:22.304413Z"
    }
   },
   "cell_type": "code",
   "source": [
    "# Создаем DataFrame для submission\n",
    "submission = pd.DataFrame({\n",
    "    'ID': test_ds['ID'],  # Идентификаторы записей из тестового набора\n",
    "    'label': y_pred_test  # Предсказанные метки\n",
    "})\n"
   ],
   "id": "9f8665b7a53adf4b",
   "outputs": [],
   "execution_count": 86
  },
  {
   "metadata": {},
   "cell_type": "markdown",
   "source": [
    "### Сохранение результатов\n",
    "DataFrame сохраняется в CSV-файл (`submission_2.csv`) с помощью метода `to_csv()`. Параметр `index=False` гарантирует, что индексы не будут включены в файл."
   ],
   "id": "191fc85925862ef1"
  },
  {
   "metadata": {
    "ExecuteTime": {
     "end_time": "2025-04-07T09:43:22.472754Z",
     "start_time": "2025-04-07T09:43:22.351766Z"
    }
   },
   "cell_type": "code",
   "source": [
    "# Сохраняем результаты в файл\n",
    "submission.to_csv('submission_2.csv', index=False)\n",
    "print(\"Файл submission сохранен!\")\n"
   ],
   "id": "717c38b68fb7c7c1",
   "outputs": [
    {
     "name": "stdout",
     "output_type": "stream",
     "text": [
      "Файл submission сохранен!\n"
     ]
    }
   ],
   "execution_count": 87
  },
  {
   "metadata": {},
   "cell_type": "markdown",
   "source": [
    "## Анализ результатов\n",
    "\n",
    "Модель показала следующие метрики на валидационных данных:\n",
    "- Precision: 0.9772\n",
    "- Recall: 0.9295\n",
    "- F1-Score: 0.9527\n",
    "\n",
    "Результаты можно улучшить, путем подбора параметров."
   ],
   "id": "6d4becdbe8cbb0b"
  },
  {
   "metadata": {
    "ExecuteTime": {
     "end_time": "2025-04-07T09:43:22.520077Z",
     "start_time": "2025-04-07T09:43:22.507335Z"
    }
   },
   "cell_type": "code",
   "source": "",
   "id": "113974f2f1ed97d6",
   "outputs": [],
   "execution_count": null
  }
 ],
 "metadata": {
  "kernelspec": {
   "display_name": "Python 3",
   "language": "python",
   "name": "python3"
  },
  "language_info": {
   "codemirror_mode": {
    "name": "ipython",
    "version": 2
   },
   "file_extension": ".py",
   "mimetype": "text/x-python",
   "name": "python",
   "nbconvert_exporter": "python",
   "pygments_lexer": "ipython2",
   "version": "2.7.6"
  }
 },
 "nbformat": 4,
 "nbformat_minor": 5
}
